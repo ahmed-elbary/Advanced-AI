{
 "cells": [
  {
   "cell_type": "code",
   "execution_count": 5,
   "metadata": {},
   "outputs": [],
   "source": [
    "import pandas as pd\n",
    "from pgmpy.models import BayesianNetwork\n",
    "from pgmpy.estimators import MaximumLikelihoodEstimator\n",
    "from pgmpy.inference import VariableElimination\n",
    "from sklearn.metrics import accuracy_score, roc_auc_score, log_loss, brier_score_loss\n",
    "from sklearn.model_selection import train_test_split, StratifiedKFold\n",
    "import numpy as np\n",
    "import time"
   ]
  },
  {
   "cell_type": "code",
   "execution_count": 6,
   "metadata": {},
   "outputs": [],
   "source": [
    "\n",
    "file_path = r'C:\\Users\\amroh\\Desktop\\Ahmed\\AAI\\AAI-assignment\\Datasets and old trials\\dementia_data-MRI-features.csv'  # Replace with your local file path\n",
    "dementia_df = pd.read_csv(file_path)\n"
   ]
  },
  {
   "cell_type": "code",
   "execution_count": 7,
   "metadata": {},
   "outputs": [],
   "source": [
    "# Drop irrelevant columns\n",
    "dementia_df = dementia_df.drop(columns=['Subject ID', 'MRI ID'], errors='ignore')\n"
   ]
  },
  {
   "cell_type": "code",
   "execution_count": 8,
   "metadata": {},
   "outputs": [],
   "source": [
    "# Ensure Group is binary-encoded\n",
    "dementia_df['Group'] = dementia_df['Group'].apply(lambda x: 1 if x == 'Demented' else 0)"
   ]
  },
  {
   "cell_type": "code",
   "execution_count": 9,
   "metadata": {},
   "outputs": [
    {
     "name": "stderr",
     "output_type": "stream",
     "text": [
      "C:\\Users\\amroh\\AppData\\Local\\Temp\\ipykernel_3168\\3103822075.py:4: FutureWarning: A value is trying to be set on a copy of a DataFrame or Series through chained assignment using an inplace method.\n",
      "The behavior will change in pandas 3.0. This inplace method will never work because the intermediate object on which we are setting values always behaves as a copy.\n",
      "\n",
      "For example, when doing 'df[col].method(value, inplace=True)', try using 'df.method({col: value}, inplace=True)' or df[col] = df[col].method(value) instead, to perform the operation inplace on the original object.\n",
      "\n",
      "\n",
      "  dementia_df[column].fillna(dementia_df[column].median(), inplace=True)\n",
      "C:\\Users\\amroh\\AppData\\Local\\Temp\\ipykernel_3168\\3103822075.py:4: FutureWarning: A value is trying to be set on a copy of a DataFrame or Series through chained assignment using an inplace method.\n",
      "The behavior will change in pandas 3.0. This inplace method will never work because the intermediate object on which we are setting values always behaves as a copy.\n",
      "\n",
      "For example, when doing 'df[col].method(value, inplace=True)', try using 'df.method({col: value}, inplace=True)' or df[col] = df[col].method(value) instead, to perform the operation inplace on the original object.\n",
      "\n",
      "\n",
      "  dementia_df[column].fillna(dementia_df[column].median(), inplace=True)\n",
      "C:\\Users\\amroh\\AppData\\Local\\Temp\\ipykernel_3168\\3103822075.py:4: FutureWarning: A value is trying to be set on a copy of a DataFrame or Series through chained assignment using an inplace method.\n",
      "The behavior will change in pandas 3.0. This inplace method will never work because the intermediate object on which we are setting values always behaves as a copy.\n",
      "\n",
      "For example, when doing 'df[col].method(value, inplace=True)', try using 'df.method({col: value}, inplace=True)' or df[col] = df[col].method(value) instead, to perform the operation inplace on the original object.\n",
      "\n",
      "\n",
      "  dementia_df[column].fillna(dementia_df[column].median(), inplace=True)\n",
      "C:\\Users\\amroh\\AppData\\Local\\Temp\\ipykernel_3168\\3103822075.py:6: FutureWarning: A value is trying to be set on a copy of a DataFrame or Series through chained assignment using an inplace method.\n",
      "The behavior will change in pandas 3.0. This inplace method will never work because the intermediate object on which we are setting values always behaves as a copy.\n",
      "\n",
      "For example, when doing 'df[col].method(value, inplace=True)', try using 'df.method({col: value}, inplace=True)' or df[col] = df[col].method(value) instead, to perform the operation inplace on the original object.\n",
      "\n",
      "\n",
      "  dementia_df[column].fillna(dementia_df[column].mode()[0], inplace=True)\n",
      "C:\\Users\\amroh\\AppData\\Local\\Temp\\ipykernel_3168\\3103822075.py:4: FutureWarning: A value is trying to be set on a copy of a DataFrame or Series through chained assignment using an inplace method.\n",
      "The behavior will change in pandas 3.0. This inplace method will never work because the intermediate object on which we are setting values always behaves as a copy.\n",
      "\n",
      "For example, when doing 'df[col].method(value, inplace=True)', try using 'df.method({col: value}, inplace=True)' or df[col] = df[col].method(value) instead, to perform the operation inplace on the original object.\n",
      "\n",
      "\n",
      "  dementia_df[column].fillna(dementia_df[column].median(), inplace=True)\n",
      "C:\\Users\\amroh\\AppData\\Local\\Temp\\ipykernel_3168\\3103822075.py:4: FutureWarning: A value is trying to be set on a copy of a DataFrame or Series through chained assignment using an inplace method.\n",
      "The behavior will change in pandas 3.0. This inplace method will never work because the intermediate object on which we are setting values always behaves as a copy.\n",
      "\n",
      "For example, when doing 'df[col].method(value, inplace=True)', try using 'df.method({col: value}, inplace=True)' or df[col] = df[col].method(value) instead, to perform the operation inplace on the original object.\n",
      "\n",
      "\n",
      "  dementia_df[column].fillna(dementia_df[column].median(), inplace=True)\n",
      "C:\\Users\\amroh\\AppData\\Local\\Temp\\ipykernel_3168\\3103822075.py:4: FutureWarning: A value is trying to be set on a copy of a DataFrame or Series through chained assignment using an inplace method.\n",
      "The behavior will change in pandas 3.0. This inplace method will never work because the intermediate object on which we are setting values always behaves as a copy.\n",
      "\n",
      "For example, when doing 'df[col].method(value, inplace=True)', try using 'df.method({col: value}, inplace=True)' or df[col] = df[col].method(value) instead, to perform the operation inplace on the original object.\n",
      "\n",
      "\n",
      "  dementia_df[column].fillna(dementia_df[column].median(), inplace=True)\n",
      "C:\\Users\\amroh\\AppData\\Local\\Temp\\ipykernel_3168\\3103822075.py:4: FutureWarning: A value is trying to be set on a copy of a DataFrame or Series through chained assignment using an inplace method.\n",
      "The behavior will change in pandas 3.0. This inplace method will never work because the intermediate object on which we are setting values always behaves as a copy.\n",
      "\n",
      "For example, when doing 'df[col].method(value, inplace=True)', try using 'df.method({col: value}, inplace=True)' or df[col] = df[col].method(value) instead, to perform the operation inplace on the original object.\n",
      "\n",
      "\n",
      "  dementia_df[column].fillna(dementia_df[column].median(), inplace=True)\n",
      "C:\\Users\\amroh\\AppData\\Local\\Temp\\ipykernel_3168\\3103822075.py:4: FutureWarning: A value is trying to be set on a copy of a DataFrame or Series through chained assignment using an inplace method.\n",
      "The behavior will change in pandas 3.0. This inplace method will never work because the intermediate object on which we are setting values always behaves as a copy.\n",
      "\n",
      "For example, when doing 'df[col].method(value, inplace=True)', try using 'df.method({col: value}, inplace=True)' or df[col] = df[col].method(value) instead, to perform the operation inplace on the original object.\n",
      "\n",
      "\n",
      "  dementia_df[column].fillna(dementia_df[column].median(), inplace=True)\n",
      "C:\\Users\\amroh\\AppData\\Local\\Temp\\ipykernel_3168\\3103822075.py:4: FutureWarning: A value is trying to be set on a copy of a DataFrame or Series through chained assignment using an inplace method.\n",
      "The behavior will change in pandas 3.0. This inplace method will never work because the intermediate object on which we are setting values always behaves as a copy.\n",
      "\n",
      "For example, when doing 'df[col].method(value, inplace=True)', try using 'df.method({col: value}, inplace=True)' or df[col] = df[col].method(value) instead, to perform the operation inplace on the original object.\n",
      "\n",
      "\n",
      "  dementia_df[column].fillna(dementia_df[column].median(), inplace=True)\n",
      "C:\\Users\\amroh\\AppData\\Local\\Temp\\ipykernel_3168\\3103822075.py:4: FutureWarning: A value is trying to be set on a copy of a DataFrame or Series through chained assignment using an inplace method.\n",
      "The behavior will change in pandas 3.0. This inplace method will never work because the intermediate object on which we are setting values always behaves as a copy.\n",
      "\n",
      "For example, when doing 'df[col].method(value, inplace=True)', try using 'df.method({col: value}, inplace=True)' or df[col] = df[col].method(value) instead, to perform the operation inplace on the original object.\n",
      "\n",
      "\n",
      "  dementia_df[column].fillna(dementia_df[column].median(), inplace=True)\n",
      "C:\\Users\\amroh\\AppData\\Local\\Temp\\ipykernel_3168\\3103822075.py:4: FutureWarning: A value is trying to be set on a copy of a DataFrame or Series through chained assignment using an inplace method.\n",
      "The behavior will change in pandas 3.0. This inplace method will never work because the intermediate object on which we are setting values always behaves as a copy.\n",
      "\n",
      "For example, when doing 'df[col].method(value, inplace=True)', try using 'df.method({col: value}, inplace=True)' or df[col] = df[col].method(value) instead, to perform the operation inplace on the original object.\n",
      "\n",
      "\n",
      "  dementia_df[column].fillna(dementia_df[column].median(), inplace=True)\n"
     ]
    }
   ],
   "source": [
    "# Impute missing values for all columns based on their data type\n",
    "for column in dementia_df.columns:\n",
    "    if dementia_df[column].dtype in ['float64', 'int64']:  # Numeric columns\n",
    "        dementia_df[column].fillna(dementia_df[column].median(), inplace=True)\n",
    "    else:  # Categorical columns\n",
    "        dementia_df[column].fillna(dementia_df[column].mode()[0], inplace=True)"
   ]
  },
  {
   "cell_type": "code",
   "execution_count": 10,
   "metadata": {},
   "outputs": [],
   "source": [
    "# # Adjusting bins for discretization to capture more detail\n",
    "# dementia_df['Age'] = pd.cut(dementia_df['Age'], bins=4, labels=['young', 'middle-aged', 'older', 'elderly'])\n",
    "# dementia_df['MMSE'] = pd.cut(dementia_df['MMSE'], bins=4, labels=['very low', 'low', 'medium', 'high'])\n",
    "# dementia_df['CDR'] = pd.cut(dementia_df['CDR'], bins=[-0.1, 0.25, 0.5, 1.0, 2.0], labels=['none', 'mild', 'moderate', 'severe'])\n",
    "# dementia_df['eTIV'] = pd.cut(dementia_df['eTIV'], bins=4, labels=['very low', 'low', 'medium', 'high'])\n",
    "# dementia_df['nWBV'] = pd.cut(dementia_df['nWBV'], bins=4, labels=['very low', 'low', 'medium', 'high'])\n",
    "# dementia_df['ASF'] = pd.cut(dementia_df['ASF'], bins=4, labels=['very low', 'low', 'medium', 'high'])"
   ]
  },
  {
   "cell_type": "code",
   "execution_count": 11,
   "metadata": {},
   "outputs": [],
   "source": [
    "\n",
    "# Adjusting bins for discretization to capture more detail\n",
    "dementia_df['Age'] = pd.cut(dementia_df['Age'], bins=4, labels=False)\n",
    "dementia_df['MMSE'] = pd.cut(dementia_df['MMSE'], bins=4, labels=False)\n",
    "dementia_df['CDR'] = pd.cut(dementia_df['CDR'], bins=[-0.1, 0.25, 0.5, 1.0, 2.0], labels=False)\n",
    "dementia_df['eTIV'] = pd.cut(dementia_df['eTIV'], bins=4, labels=False)\n",
    "dementia_df['nWBV'] = pd.cut(dementia_df['nWBV'], bins=4, labels=False)\n",
    "dementia_df['ASF'] = pd.cut(dementia_df['ASF'], bins=4, labels=False)"
   ]
  },
  {
   "cell_type": "code",
   "execution_count": 12,
   "metadata": {},
   "outputs": [],
   "source": [
    "# def get_bin(value, bins):\n",
    "#     bin_index = pd.cut([value], bins=bins, labels=False)[0]\n",
    "#     if pd.isna(bin_index):  # Handle values outside the bin range\n",
    "#         bin_index = 0 if value < bins[0] else len(bins) - 2  # Use nearest bin\n",
    "#     return bin_index"
   ]
  },
  {
   "cell_type": "code",
   "execution_count": 13,
   "metadata": {},
   "outputs": [],
   "source": [
    "# age_bins = pd.cut(dementia_df['Age'], bins=4, retbins=True)[1]\n",
    "# mmse_bins = pd.cut(dementia_df['MMSE'], bins=4, retbins=True)[1]\n",
    "# cdr_bins = pd.cut(dementia_df['CDR'], bins=[-0.1, 0.25, 0.5, 1.0, 2.0], retbins=True)[1]\n",
    "# etiv_bins = pd.cut(dementia_df['eTIV'], bins=4, retbins=True)[1]\n",
    "# nwbv_bins = pd.cut(dementia_df['nWBV'], bins=4, retbins=True)[1]\n",
    "# asf_bins = pd.cut(dementia_df['ASF'], bins=4, retbins=True)[1]"
   ]
  },
  {
   "cell_type": "code",
   "execution_count": 14,
   "metadata": {},
   "outputs": [],
   "source": [
    "# Define the Predefined Bayesian Network Structure\n",
    "predefined_structure = BayesianNetwork([\n",
    "    ('Age', 'MMSE'),\n",
    "    ('Age', 'CDR'),\n",
    "    ('MMSE', 'Group'),\n",
    "    ('CDR', 'Group'),\n",
    "    ('eTIV', 'nWBV'),\n",
    "    ('nWBV', 'Group'),\n",
    "    ('ASF', 'nWBV'),\n",
    "    ('Visit', 'Group'),     # Adding Visit\n",
    "    ('EDUC', 'MMSE'),       # Adding EDUC linked to MMSE (as a plausible relationship)\n",
    "    ('SES', 'Group')        # Adding SES as potentially affecting Group\n",
    "])\n",
    "\n",
    "\n",
    "\n",
    "\n",
    "\n",
    "\n",
    "\n"
   ]
  },
  {
   "cell_type": "code",
   "execution_count": 15,
   "metadata": {},
   "outputs": [],
   "source": [
    "# Split the data into training and testing sets\n",
    "train_df, test_df = train_test_split(dementia_df, test_size=0.2, stratify=dementia_df['Group'], random_state=42)\n"
   ]
  },
  {
   "cell_type": "code",
   "execution_count": 16,
   "metadata": {},
   "outputs": [],
   "source": [
    "# Fit the model with Maximum Likelihood Estimation (MLE) using the predefined structure\n",
    "start_train_time = time.time()\n",
    "predefined_structure.fit(train_df, estimator=MaximumLikelihoodEstimator)\n",
    "train_time = time.time() - start_train_time\n",
    "\n",
    "# Initialize inference on the predefined model\n",
    "predefined_inference = VariableElimination(predefined_structure)\n",
    "\n",
    "# Define binning for each continuous feature (using the same bins as in preprocessing)\n",
    "age_bins = pd.cut(dementia_df['Age'], bins=4, retbins=True)[1]\n",
    "mmse_bins = pd.cut(dementia_df['MMSE'], bins=4, retbins=True)[1]\n",
    "cdr_bins = pd.cut(dementia_df['CDR'], bins=[-0.1, 0.25, 0.5, 1.0, 2.0], retbins=True)[1]\n",
    "etiv_bins = pd.cut(dementia_df['eTIV'], bins=4, retbins=True)[1]\n",
    "nwbv_bins = pd.cut(dementia_df['nWBV'], bins=4, retbins=True)[1]\n",
    "asf_bins = pd.cut(dementia_df['ASF'], bins=4, retbins=True)[1]\n",
    "\n",
    "# Helper function to map continuous values to bins\n",
    "def get_bin(value, bins):\n",
    "    bin_index = pd.cut([value], bins=bins, labels=False)[0]\n",
    "    if pd.isna(bin_index):  # Handle values outside the bin range\n",
    "        bin_index = 0 if value < bins[0] else len(bins) - 2  # Use nearest bin index\n",
    "    return int(bin_index)\n",
    "\n",
    "# Evaluate the model\n",
    "y_true = test_df['Group'].values\n",
    "y_pred = []\n",
    "y_proba = []"
   ]
  },
  {
   "cell_type": "code",
   "execution_count": 17,
   "metadata": {},
   "outputs": [],
   "source": [
    "# start_test_time = time.time()\n",
    "# for index, row in test_df.iterrows():\n",
    "#     # Prepare evidence by excluding 'Group' and any irrelevant columns like 'MR Delay'\n",
    "#     evidence = {k: v for k, v in row.drop(['Group', 'MR Delay']).to_dict().items() if k in predefined_structure.nodes()}\n",
    "    \n",
    "#     # Get probability distribution for the 'Group' variable given the filtered evidence\n",
    "#     query_result = predefined_inference.query(variables=['Group'], evidence=evidence)\n",
    "#     prob = query_result.values[1]  # Probability of Group=1 (Demented)\n",
    "#     y_proba.append(prob)\n",
    "#     y_pred.append(1 if prob >= 0.5 else 0)  # Using 0.5 as a threshold for binary classification\n",
    "# test_time = time.time() - start_test_time"
   ]
  },
  {
   "cell_type": "code",
   "execution_count": 18,
   "metadata": {},
   "outputs": [
    {
     "name": "stdout",
     "output_type": "stream",
     "text": [
      "Evidence for row 154: {'Visit': 1, 'Age': 2, 'EDUC': 13, 'SES': 2.0, 'MMSE': 3, 'CDR': 3, 'eTIV': 1, 'nWBV': 1, 'ASF': 2}\n",
      "Evidence for row 34: {'Visit': 3, 'Age': 2, 'EDUC': 14, 'SES': 1.0, 'MMSE': 3, 'CDR': 0, 'eTIV': 1, 'nWBV': 1, 'ASF': 2}\n",
      "Evidence for row 193: {'Visit': 2, 'Age': 1, 'EDUC': 12, 'SES': 4.0, 'MMSE': 3, 'CDR': 0, 'eTIV': 1, 'nWBV': 1, 'ASF': 1}\n",
      "Evidence for row 282: {'Visit': 2, 'Age': 1, 'EDUC': 16, 'SES': 2.0, 'MMSE': 3, 'CDR': 0, 'eTIV': 0, 'nWBV': 2, 'ASF': 3}\n",
      "Evidence for row 102: {'Visit': 1, 'Age': 0, 'EDUC': 16, 'SES': 3.0, 'MMSE': 3, 'CDR': 0, 'eTIV': 1, 'nWBV': 3, 'ASF': 1}\n",
      "Evidence for row 92: {'Visit': 2, 'Age': 1, 'EDUC': 18, 'SES': 1.0, 'MMSE': 3, 'CDR': 0, 'eTIV': 0, 'nWBV': 1, 'ASF': 2}\n",
      "Evidence for row 236: {'Visit': 2, 'Age': 1, 'EDUC': 13, 'SES': 2.0, 'MMSE': 3, 'CDR': 2, 'eTIV': 1, 'nWBV': 1, 'ASF': 1}\n",
      "Evidence for row 81: {'Visit': 1, 'Age': 1, 'EDUC': 16, 'SES': 1.0, 'MMSE': 3, 'CDR': 0, 'eTIV': 0, 'nWBV': 2, 'ASF': 2}\n",
      "Evidence for row 35: {'Visit': 4, 'Age': 3, 'EDUC': 14, 'SES': 1.0, 'MMSE': 3, 'CDR': 2, 'eTIV': 1, 'nWBV': 1, 'ASF': 2}\n",
      "Evidence for row 24: {'Visit': 3, 'Age': 2, 'EDUC': 12, 'SES': 4.0, 'MMSE': 3, 'CDR': 0, 'eTIV': 0, 'nWBV': 1, 'ASF': 3}\n",
      "Evidence for row 292: {'Visit': 1, 'Age': 3, 'EDUC': 18, 'SES': 2.0, 'MMSE': 3, 'CDR': 0, 'eTIV': 2, 'nWBV': 2, 'ASF': 0}\n",
      "Evidence for row 228: {'Visit': 2, 'Age': 1, 'EDUC': 18, 'SES': 1.0, 'MMSE': 3, 'CDR': 2, 'eTIV': 2, 'nWBV': 2, 'ASF': 1}\n",
      "Evidence for row 3: {'Visit': 2, 'Age': 1, 'EDUC': 12, 'SES': 2.0, 'MMSE': 3, 'CDR': 2, 'eTIV': 2, 'nWBV': 1, 'ASF': 0}\n",
      "Evidence for row 306: {'Visit': 2, 'Age': 2, 'EDUC': 13, 'SES': 2.0, 'MMSE': 3, 'CDR': 0, 'eTIV': 1, 'nWBV': 1, 'ASF': 2}\n",
      "Evidence for row 198: {'Visit': 1, 'Age': 1, 'EDUC': 18, 'SES': 1.0, 'MMSE': 3, 'CDR': 0, 'eTIV': 2, 'nWBV': 1, 'ASF': 0}\n",
      "Evidence for row 26: {'Visit': 2, 'Age': 1, 'EDUC': 16, 'SES': 3.0, 'MMSE': 1, 'CDR': 3, 'eTIV': 2, 'nWBV': 1, 'ASF': 1}\n",
      "Evidence for row 257: {'Visit': 2, 'Age': 1, 'EDUC': 16, 'SES': 3.0, 'MMSE': 3, 'CDR': 2, 'eTIV': 1, 'nWBV': 2, 'ASF': 1}\n",
      "Evidence for row 121: {'Visit': 2, 'Age': 2, 'EDUC': 12, 'SES': 2.0, 'MMSE': 3, 'CDR': 0, 'eTIV': 2, 'nWBV': 2, 'ASF': 1}\n",
      "Evidence for row 123: {'Visit': 1, 'Age': 1, 'EDUC': 14, 'SES': 3.0, 'MMSE': 3, 'CDR': 2, 'eTIV': 0, 'nWBV': 1, 'ASF': 2}\n",
      "Evidence for row 1: {'Visit': 2, 'Age': 2, 'EDUC': 14, 'SES': 2.0, 'MMSE': 3, 'CDR': 0, 'eTIV': 3, 'nWBV': 0, 'ASF': 0}\n",
      "Evidence for row 176: {'Visit': 3, 'Age': 0, 'EDUC': 15, 'SES': 2.0, 'MMSE': 3, 'CDR': 2, 'eTIV': 1, 'nWBV': 1, 'ASF': 1}\n",
      "Evidence for row 151: {'Visit': 3, 'Age': 2, 'EDUC': 17, 'SES': 1.0, 'MMSE': 3, 'CDR': 0, 'eTIV': 2, 'nWBV': 1, 'ASF': 0}\n",
      "Evidence for row 239: {'Visit': 1, 'Age': 1, 'EDUC': 12, 'SES': 3.0, 'MMSE': 3, 'CDR': 2, 'eTIV': 1, 'nWBV': 2, 'ASF': 2}\n",
      "Evidence for row 286: {'Visit': 2, 'Age': 1, 'EDUC': 16, 'SES': 3.0, 'MMSE': 3, 'CDR': 2, 'eTIV': 1, 'nWBV': 0, 'ASF': 2}\n",
      "Evidence for row 346: {'Visit': 1, 'Age': 2, 'EDUC': 16, 'SES': 2.0, 'MMSE': 3, 'CDR': 0, 'eTIV': 1, 'nWBV': 1, 'ASF': 2}\n",
      "Evidence for row 264: {'Visit': 4, 'Age': 2, 'EDUC': 18, 'SES': 1.0, 'MMSE': 3, 'CDR': 2, 'eTIV': 2, 'nWBV': 1, 'ASF': 0}\n",
      "Evidence for row 372: {'Visit': 3, 'Age': 0, 'EDUC': 13, 'SES': 2.0, 'MMSE': 3, 'CDR': 0, 'eTIV': 1, 'nWBV': 3, 'ASF': 2}\n",
      "Evidence for row 303: {'Visit': 3, 'Age': 2, 'EDUC': 13, 'SES': 2.0, 'MMSE': 3, 'CDR': 0, 'eTIV': 1, 'nWBV': 2, 'ASF': 2}\n",
      "Evidence for row 110: {'Visit': 1, 'Age': 1, 'EDUC': 18, 'SES': 2.0, 'MMSE': 3, 'CDR': 0, 'eTIV': 1, 'nWBV': 1, 'ASF': 1}\n",
      "Evidence for row 332: {'Visit': 2, 'Age': 2, 'EDUC': 12, 'SES': 3.0, 'MMSE': 1, 'CDR': 3, 'eTIV': 2, 'nWBV': 1, 'ASF': 0}\n",
      "Evidence for row 275: {'Visit': 1, 'Age': 1, 'EDUC': 11, 'SES': 4.0, 'MMSE': 3, 'CDR': 2, 'eTIV': 0, 'nWBV': 2, 'ASF': 2}\n",
      "Evidence for row 169: {'Visit': 2, 'Age': 3, 'EDUC': 16, 'SES': 1.0, 'MMSE': 3, 'CDR': 0, 'eTIV': 2, 'nWBV': 0, 'ASF': 1}\n",
      "Evidence for row 329: {'Visit': 1, 'Age': 1, 'EDUC': 20, 'SES': 1.0, 'MMSE': 2, 'CDR': 3, 'eTIV': 2, 'nWBV': 2, 'ASF': 0}\n",
      "Evidence for row 25: {'Visit': 1, 'Age': 1, 'EDUC': 16, 'SES': 3.0, 'MMSE': 2, 'CDR': 2, 'eTIV': 2, 'nWBV': 1, 'ASF': 1}\n",
      "Evidence for row 261: {'Visit': 1, 'Age': 1, 'EDUC': 18, 'SES': 1.0, 'MMSE': 3, 'CDR': 0, 'eTIV': 2, 'nWBV': 1, 'ASF': 1}\n",
      "Evidence for row 127: {'Visit': 2, 'Age': 1, 'EDUC': 13, 'SES': 4.0, 'MMSE': 3, 'CDR': 2, 'eTIV': 1, 'nWBV': 2, 'ASF': 2}\n",
      "Evidence for row 249: {'Visit': 3, 'Age': 2, 'EDUC': 15, 'SES': 2.0, 'MMSE': 3, 'CDR': 0, 'eTIV': 1, 'nWBV': 2, 'ASF': 1}\n",
      "Evidence for row 59: {'Visit': 3, 'Age': 3, 'EDUC': 12, 'SES': 3.0, 'MMSE': 3, 'CDR': 2, 'eTIV': 1, 'nWBV': 1, 'ASF': 1}\n",
      "Evidence for row 103: {'Visit': 2, 'Age': 1, 'EDUC': 16, 'SES': 3.0, 'MMSE': 3, 'CDR': 0, 'eTIV': 1, 'nWBV': 3, 'ASF': 1}\n",
      "Evidence for row 146: {'Visit': 2, 'Age': 3, 'EDUC': 12, 'SES': 3.0, 'MMSE': 3, 'CDR': 0, 'eTIV': 1, 'nWBV': 0, 'ASF': 1}\n",
      "Evidence for row 79: {'Visit': 2, 'Age': 2, 'EDUC': 6, 'SES': 4.0, 'MMSE': 3, 'CDR': 2, 'eTIV': 0, 'nWBV': 1, 'ASF': 2}\n",
      "Evidence for row 301: {'Visit': 1, 'Age': 1, 'EDUC': 13, 'SES': 2.0, 'MMSE': 3, 'CDR': 0, 'eTIV': 1, 'nWBV': 2, 'ASF': 2}\n",
      "Evidence for row 98: {'Visit': 2, 'Age': 0, 'EDUC': 16, 'SES': 1.0, 'MMSE': 2, 'CDR': 3, 'eTIV': 2, 'nWBV': 1, 'ASF': 0}\n",
      "Evidence for row 93: {'Visit': 1, 'Age': 2, 'EDUC': 15, 'SES': 2.0, 'MMSE': 2, 'CDR': 2, 'eTIV': 1, 'nWBV': 2, 'ASF': 1}\n",
      "Evidence for row 160: {'Visit': 5, 'Age': 1, 'EDUC': 14, 'SES': 3.0, 'MMSE': 3, 'CDR': 0, 'eTIV': 1, 'nWBV': 2, 'ASF': 1}\n",
      "Evidence for row 273: {'Visit': 1, 'Age': 1, 'EDUC': 12, 'SES': 3.0, 'MMSE': 3, 'CDR': 0, 'eTIV': 1, 'nWBV': 1, 'ASF': 1}\n",
      "Evidence for row 336: {'Visit': 2, 'Age': 1, 'EDUC': 16, 'SES': 3.0, 'MMSE': 3, 'CDR': 0, 'eTIV': 3, 'nWBV': 2, 'ASF': 0}\n",
      "Evidence for row 85: {'Visit': 2, 'Age': 1, 'EDUC': 17, 'SES': 3.0, 'MMSE': 3, 'CDR': 0, 'eTIV': 2, 'nWBV': 2, 'ASF': 1}\n",
      "Evidence for row 45: {'Visit': 1, 'Age': 2, 'EDUC': 12, 'SES': 3.0, 'MMSE': 3, 'CDR': 2, 'eTIV': 1, 'nWBV': 1, 'ASF': 2}\n",
      "Evidence for row 170: {'Visit': 3, 'Age': 3, 'EDUC': 16, 'SES': 1.0, 'MMSE': 3, 'CDR': 0, 'eTIV': 2, 'nWBV': 0, 'ASF': 1}\n",
      "Evidence for row 317: {'Visit': 2, 'Age': 1, 'EDUC': 12, 'SES': 2.0, 'MMSE': 2, 'CDR': 3, 'eTIV': 1, 'nWBV': 0, 'ASF': 1}\n",
      "Evidence for row 302: {'Visit': 2, 'Age': 1, 'EDUC': 13, 'SES': 2.0, 'MMSE': 3, 'CDR': 0, 'eTIV': 1, 'nWBV': 2, 'ASF': 2}\n",
      "Evidence for row 83: {'Visit': 3, 'Age': 1, 'EDUC': 16, 'SES': 1.0, 'MMSE': 3, 'CDR': 2, 'eTIV': 0, 'nWBV': 2, 'ASF': 2}\n",
      "Evidence for row 348: {'Visit': 3, 'Age': 3, 'EDUC': 16, 'SES': 2.0, 'MMSE': 3, 'CDR': 2, 'eTIV': 1, 'nWBV': 0, 'ASF': 2}\n",
      "Evidence for row 165: {'Visit': 3, 'Age': 1, 'EDUC': 18, 'SES': 2.0, 'MMSE': 3, 'CDR': 0, 'eTIV': 1, 'nWBV': 1, 'ASF': 1}\n",
      "Evidence for row 331: {'Visit': 1, 'Age': 1, 'EDUC': 12, 'SES': 3.0, 'MMSE': 2, 'CDR': 3, 'eTIV': 1, 'nWBV': 1, 'ASF': 1}\n",
      "Evidence for row 166: {'Visit': 1, 'Age': 0, 'EDUC': 16, 'SES': 2.0, 'MMSE': 3, 'CDR': 0, 'eTIV': 3, 'nWBV': 1, 'ASF': 0}\n",
      "Evidence for row 355: {'Visit': 2, 'Age': 2, 'EDUC': 20, 'SES': 1.0, 'MMSE': 3, 'CDR': 2, 'eTIV': 2, 'nWBV': 0, 'ASF': 1}\n",
      "Evidence for row 215: {'Visit': 1, 'Age': 2, 'EDUC': 15, 'SES': 3.0, 'MMSE': 3, 'CDR': 2, 'eTIV': 1, 'nWBV': 0, 'ASF': 1}\n",
      "Evidence for row 147: {'Visit': 1, 'Age': 2, 'EDUC': 18, 'SES': 2.0, 'MMSE': 3, 'CDR': 0, 'eTIV': 1, 'nWBV': 0, 'ASF': 1}\n",
      "Evidence for row 210: {'Visit': 2, 'Age': 2, 'EDUC': 11, 'SES': 4.0, 'MMSE': 3, 'CDR': 0, 'eTIV': 2, 'nWBV': 2, 'ASF': 1}\n",
      "Evidence for row 89: {'Visit': 2, 'Age': 0, 'EDUC': 14, 'SES': 4.0, 'MMSE': 1, 'CDR': 3, 'eTIV': 1, 'nWBV': 0, 'ASF': 2}\n",
      "Evidence for row 325: {'Visit': 2, 'Age': 1, 'EDUC': 16, 'SES': 1.0, 'MMSE': 3, 'CDR': 0, 'eTIV': 3, 'nWBV': 1, 'ASF': 0}\n",
      "Evidence for row 315: {'Visit': 2, 'Age': 2, 'EDUC': 18, 'SES': 1.0, 'MMSE': 3, 'CDR': 0, 'eTIV': 0, 'nWBV': 1, 'ASF': 2}\n",
      "Evidence for row 353: {'Visit': 3, 'Age': 3, 'EDUC': 14, 'SES': 2.0, 'MMSE': 3, 'CDR': 0, 'eTIV': 1, 'nWBV': 1, 'ASF': 1}\n",
      "Evidence for row 369: {'Visit': 3, 'Age': 2, 'EDUC': 16, 'SES': 1.0, 'MMSE': 3, 'CDR': 2, 'eTIV': 2, 'nWBV': 0, 'ASF': 0}\n",
      "Evidence for row 211: {'Visit': 3, 'Age': 2, 'EDUC': 11, 'SES': 4.0, 'MMSE': 3, 'CDR': 0, 'eTIV': 2, 'nWBV': 2, 'ASF': 1}\n",
      "Evidence for row 15: {'Visit': 1, 'Age': 0, 'EDUC': 12, 'SES': 2.0, 'MMSE': 3, 'CDR': 2, 'eTIV': 1, 'nWBV': 3, 'ASF': 1}\n",
      "Evidence for row 118: {'Visit': 1, 'Age': 1, 'EDUC': 14, 'SES': 2.0, 'MMSE': 3, 'CDR': 0, 'eTIV': 1, 'nWBV': 2, 'ASF': 1}\n",
      "Evidence for row 253: {'Visit': 2, 'Age': 1, 'EDUC': 11, 'SES': 4.0, 'MMSE': 3, 'CDR': 0, 'eTIV': 1, 'nWBV': 1, 'ASF': 1}\n",
      "Evidence for row 17: {'Visit': 1, 'Age': 0, 'EDUC': 12, 'SES': 3.0, 'MMSE': 3, 'CDR': 2, 'eTIV': 1, 'nWBV': 2, 'ASF': 1}\n",
      "Evidence for row 287: {'Visit': 3, 'Age': 2, 'EDUC': 16, 'SES': 3.0, 'MMSE': 3, 'CDR': 2, 'eTIV': 1, 'nWBV': 0, 'ASF': 2}\n",
      "Evidence for row 358: {'Visit': 3, 'Age': 1, 'EDUC': 12, 'SES': 2.0, 'MMSE': 3, 'CDR': 3, 'eTIV': 0, 'nWBV': 1, 'ASF': 3}\n",
      "Evidence for row 364: {'Visit': 4, 'Age': 1, 'EDUC': 13, 'SES': 2.0, 'MMSE': 3, 'CDR': 0, 'eTIV': 1, 'nWBV': 1, 'ASF': 1}\n",
      "Evidence for row 341: {'Visit': 2, 'Age': 0, 'EDUC': 12, 'SES': 4.0, 'MMSE': 3, 'CDR': 0, 'eTIV': 1, 'nWBV': 3, 'ASF': 2}\n"
     ]
    }
   ],
   "source": [
    "# Start testing time\n",
    "start_test_time = time.time()\n",
    "for index, row in test_df.iterrows():\n",
    "    # Convert continuous values to bins and prepare evidence\n",
    "    evidence = {\n",
    "        'Visit': row['Visit'],\n",
    "        'Age': get_bin(row['Age'], age_bins),\n",
    "        'EDUC': row['EDUC'],\n",
    "        'SES': row['SES'],\n",
    "        'MMSE': get_bin(row['MMSE'], mmse_bins),\n",
    "        'CDR': get_bin(row['CDR'], cdr_bins),\n",
    "        'eTIV': get_bin(row['eTIV'], etiv_bins),\n",
    "        'nWBV': get_bin(row['nWBV'], nwbv_bins),\n",
    "        'ASF': get_bin(row['ASF'], asf_bins)\n",
    "    }\n",
    "\n",
    "    # Debugging: Print evidence to verify values\n",
    "    print(f\"Evidence for row {index}: {evidence}\")\n",
    "    \n",
    "    # Query probability distribution for 'Group' with the prepared evidence\n",
    "    try:\n",
    "        query_result = predefined_inference.query(variables=['Group'], evidence=evidence)\n",
    "        prob = query_result.values[1]  # Probability of Group=1 (Demented)\n",
    "        y_proba.append(prob)\n",
    "        y_pred.append(1 if prob >= 0.5 else 0)  # Using 0.5 as a threshold for classification\n",
    "    except KeyError as e:\n",
    "        print(f\"KeyError for row {index}: {e}\")\n",
    "test_time = time.time() - start_test_time"
   ]
  },
  {
   "cell_type": "code",
   "execution_count": 19,
   "metadata": {},
   "outputs": [
    {
     "name": "stdout",
     "output_type": "stream",
     "text": [
      "Unique values in y_true: [0 1]\n"
     ]
    }
   ],
   "source": [
    "# After splitting data\n",
    "y_true = test_df['Group'].values\n",
    "print(\"Unique values in y_true:\", np.unique(y_true))"
   ]
  },
  {
   "cell_type": "code",
   "execution_count": 20,
   "metadata": {},
   "outputs": [
    {
     "name": "stdout",
     "output_type": "stream",
     "text": [
      "Model Evaluation Metrics for Predefined Bayesian Network:\n",
      "Accuracy: 0.8800\n",
      "AUC: 0.9149\n",
      "Kullback-Leibler Divergence (Log Loss): 0.7578\n",
      "Brier Score: 0.1133\n",
      "Training Time: 0.0390 seconds\n",
      "Testing Time: 0.0650 seconds\n"
     ]
    }
   ],
   "source": [
    "# Calculate Metrics\n",
    "accuracy = accuracy_score(y_true, y_pred)\n",
    "auc_score = roc_auc_score(y_true, y_proba)\n",
    "kl_divergence = log_loss(y_true, y_proba)  # Log Loss approximates KL Divergence in binary classification\n",
    "brier_score = brier_score_loss(y_true, y_proba)\n",
    "\n",
    "# Print Results\n",
    "print(\"Model Evaluation Metrics for Predefined Bayesian Network:\")\n",
    "print(f\"Accuracy: {accuracy:.4f}\")\n",
    "print(f\"AUC: {auc_score:.4f}\")\n",
    "print(f\"Kullback-Leibler Divergence (Log Loss): {kl_divergence:.4f}\")\n",
    "print(f\"Brier Score: {brier_score:.4f}\")\n",
    "print(f\"Training Time: {train_time:.4f} seconds\")\n",
    "print(f\"Testing Time: {test_time:.4f} seconds\")"
   ]
  },
  {
   "cell_type": "code",
   "execution_count": 21,
   "metadata": {},
   "outputs": [],
   "source": [
    "# query_result = predefined_inference.query(variables=['Group'], evidence={\n",
    "#     'Age': 2,        # Represents a specific age range as defined by binning\n",
    "#     'MMSE': 3,       # Represents a higher MMSE score bin\n",
    "#     'CDR': 1,        # Represents 'mild' CDR bin (for example, if this corresponds to bin 1)\n",
    "#     'eTIV': 2,\n",
    "#     'nWBV': 1,\n",
    "#     'ASF': 3\n",
    "# })"
   ]
  },
  {
   "cell_type": "code",
   "execution_count": null,
   "metadata": {},
   "outputs": [],
   "source": []
  },
  {
   "cell_type": "code",
   "execution_count": 22,
   "metadata": {},
   "outputs": [
    {
     "name": "stdout",
     "output_type": "stream",
     "text": [
      "Query Result for P(Group=nondemented | evidence):\n",
      " +----------+--------------+\n",
      "| Group    |   phi(Group) |\n",
      "+==========+==============+\n",
      "| Group(0) |       0.6174 |\n",
      "+----------+--------------+\n",
      "| Group(1) |       0.3826 |\n",
      "+----------+--------------+\n"
     ]
    }
   ],
   "source": [
    "# Define binning for each continuous feature (using the same bins as in preprocessing)\n",
    "age_bins = pd.cut(dementia_df['Age'], bins=4, retbins=True)[1]\n",
    "mmse_bins = pd.cut(dementia_df['MMSE'], bins=4, retbins=True)[1]\n",
    "cdr_bins = pd.cut(dementia_df['CDR'], bins=[-0.1, 0.25, 0.5, 1.0, 2.0], retbins=True)[1]\n",
    "etiv_bins = pd.cut(dementia_df['eTIV'], bins=4, retbins=True)[1]\n",
    "nwbv_bins = pd.cut(dementia_df['nWBV'], bins=4, retbins=True)[1]\n",
    "asf_bins = pd.cut(dementia_df['ASF'], bins=4, retbins=True)[1]\n",
    "\n",
    "# Function to convert a continuous value to its bin index\n",
    "def get_bin(value, bins):\n",
    "    bin_index = pd.cut([value], bins=bins, labels=False)[0]\n",
    "    if pd.isna(bin_index):  # Handle values outside the bin range\n",
    "        bin_index = 0 if value < bins[0] else len(bins) - 2  # Use nearest bin index\n",
    "    return int(bin_index)\n",
    "\n",
    "# Prepare evidence with discretized values\n",
    "query_evidence = {\n",
    "    'Visit': 3,\n",
    "    'Age': get_bin(80, age_bins),\n",
    "    'EDUC': 12,\n",
    "    #'SES': 2,\n",
    "    'MMSE': get_bin(22, mmse_bins),\n",
    "    'CDR': get_bin(0.5, cdr_bins),\n",
    "    'eTIV': get_bin(1698, etiv_bins),\n",
    "    'nWBV': get_bin(0.701, nwbv_bins),\n",
    "    'ASF': get_bin(1.034, asf_bins)\n",
    "}\n",
    "\n",
    "# Run the query on the predefined Bayesian Network\n",
    "query_result = predefined_inference.query(variables=['Group'], evidence=query_evidence)\n",
    "\n",
    "# Print the query result\n",
    "print(\"Query Result for P(Group=nondemented | evidence):\\n\", query_result)\n",
    "\n",
    "\n",
    "\n",
    "\n",
    "\n",
    "# # Function to find bin index for a given value and bins\n",
    "# def get_bin(value, bins):\n",
    "#     return pd.cut([value], bins=bins, labels=False)[0]\n",
    "\n",
    "# # Convert query values to bin indices\n",
    "# query_evidence = {\n",
    "#     'Visit': 2,\n",
    "#     'Age': get_bin(88, age_bins),\n",
    "#     'EDUC': 14,\n",
    "#     'SES': 2,\n",
    "#     'MMSE': get_bin(30, mmse_bins),\n",
    "#     'CDR': get_bin(0, cdr_bins),\n",
    "#     'eTIV': get_bin(2004, etiv_bins),\n",
    "#     'nWBV': get_bin(0.681, nwbv_bins),\n",
    "#     'ASF': get_bin(0.876, asf_bins)\n",
    "# }\n",
    "\n",
    "# # Now run the query with the converted evidence\n",
    "# query_result = predefined_inference.query(variables=['Group'], evidence=query_evidence)\n",
    "# print(\"Query Result:\\n\", query_result)"
   ]
  },
  {
   "cell_type": "code",
   "execution_count": 23,
   "metadata": {},
   "outputs": [
    {
     "name": "stdout",
     "output_type": "stream",
     "text": [
      "P(Group=nondemented | evidence): 0.6174\n",
      "P(Group=demented | evidence): 0.3826\n"
     ]
    }
   ],
   "source": [
    "# Extract the probability of Group = 0 (nondemented) and Group = 1 (demented)\n",
    "prob_nondemented = query_result.values[0]  # Probability of Group = 0\n",
    "prob_demented = query_result.values[1]     # Probability of Group = 1\n",
    "\n",
    "# Print out the specific probabilities\n",
    "print(f\"P(Group=nondemented | evidence): {prob_nondemented:.4f}\")\n",
    "print(f\"P(Group=demented | evidence): {prob_demented:.4f}\")\n",
    "\n"
   ]
  },
  {
   "cell_type": "code",
   "execution_count": 24,
   "metadata": {},
   "outputs": [
    {
     "data": {
      "image/png": "[encoded data removed]",
      "text/plain": [
       "<Figure size 1200x800 with 1 Axes>"
      ]
     },
     "metadata": {},
     "output_type": "display_data"
    }
   ],
   "source": [
    "import matplotlib.pyplot as plt\n",
    "import networkx as nx\n",
    "from pgmpy.models import BayesianNetwork\n",
    "\n",
    "# Plotting the learned Bayesian Network structure (DAG)\n",
    "plt.figure(figsize=(12, 8))\n",
    "G = nx.DiGraph()\n",
    "\n",
    "# Add edges from the learned structure\n",
    "G.add_edges_from(predefined_structure.edges())\n",
    "\n",
    "# Draw the graph\n",
    "pos = nx.spring_layout(G)  # You can use other layouts as well (e.g., circular, shell)\n",
    "nx.draw(G, pos, with_labels=True, node_size=3000, node_color=\"skyblue\", font_size=10, font_weight=\"bold\", arrowsize=20)\n",
    "plt.title(\"DAG of the Learned Bayesian Network\")\n",
    "plt.show()\n"
   ]
  }
 ],
 "metadata": {
  "kernelspec": {
   "display_name": "Python 3",
   "language": "python",
   "name": "python3"
  },
  "language_info": {
   "codemirror_mode": {
    "name": "ipython",
    "version": 3
   },
   "file_extension": ".py",
   "mimetype": "text/x-python",
   "name": "python",
   "nbconvert_exporter": "python",
   "pygments_lexer": "ipython3",
   "version": "3.11.9"
  }
 },
 "nbformat": 4,
 "nbformat_minor": 2
}
